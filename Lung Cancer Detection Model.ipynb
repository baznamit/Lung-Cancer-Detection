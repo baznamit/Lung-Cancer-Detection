{
  "nbformat": 4,
  "nbformat_minor": 0,
  "metadata": {
    "colab": {
      "name": "LungCancerDetection.ipynb",
      "provenance": [],
      "collapsed_sections": [],
      "mount_file_id": "1UAMYExvlV4CiceWEDAs3PoD4cPVDNlH3",
      "authorship_tag": "ABX9TyNg4fIDHv+mKw3JaHitU6j2",
      "include_colab_link": true
    },
    "kernelspec": {
      "name": "python3",
      "display_name": "Python 3"
    },
    "language_info": {
      "name": "python"
    }
  },
  "cells": [
    {
      "cell_type": "markdown",
      "metadata": {
        "id": "view-in-github",
        "colab_type": "text"
      },
      "source": [
        "<a href=\"https://colab.research.google.com/github/baznamit/Lung-Cancer-Detection/blob/main/Lung%20Cancer%20Detection%20Model.ipynb\" target=\"_parent\"><img src=\"https://colab.research.google.com/assets/colab-badge.svg\" alt=\"Open In Colab\"/></a>"
      ]
    },
    {
      "cell_type": "code",
      "metadata": {
        "colab": {
          "resources": {
            "http://localhost:8080/nbextensions/google.colab/files.js": {
              "data": "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",
              "ok": true,
              "headers": [
                [
                  "content-type",
                  "application/javascript"
                ]
              ],
              "status": 200,
              "status_text": ""
            }
          },
          "base_uri": "https://localhost:8080/",
          "height": 106
        },
        "id": "Cg3aexbT7qvw",
        "outputId": "c5e4130e-c648-4f1b-90ad-bc653d483f49"
      },
      "source": [
        "import tensorflow as tf\n",
        "from tensorflow import keras\n",
        "import numpy as np\n",
        "import pandas as pd\n",
        "from google.colab import files\n",
        "import io\n",
        "from tensorflow.keras import layers\n",
        "from matplotlib import pyplot as plt\n",
        "u = files.upload()\n",
        "a= pd.read_csv(io.BytesIO(u['training_data.csv']))\n",
        "b= pd.read_csv(io.BytesIO(u['testing_data.csv']))"
      ],
      "execution_count": null,
      "outputs": [
        {
          "output_type": "display_data",
          "data": {
            "text/html": [
              "\n",
              "     <input type=\"file\" id=\"files-3930aad7-4046-43a4-8151-39263cb6f714\" name=\"files[]\" multiple disabled\n",
              "        style=\"border:none\" />\n",
              "     <output id=\"result-3930aad7-4046-43a4-8151-39263cb6f714\">\n",
              "      Upload widget is only available when the cell has been executed in the\n",
              "      current browser session. Please rerun this cell to enable.\n",
              "      </output>\n",
              "      <script src=\"/nbextensions/google.colab/files.js\"></script> "
            ],
            "text/plain": [
              "<IPython.core.display.HTML object>"
            ]
          },
          "metadata": {
            "tags": []
          }
        },
        {
          "output_type": "stream",
          "text": [
            "Saving training_data.csv to training_data.csv\n",
            "Saving testing_data.csv to testing_data.csv\n"
          ],
          "name": "stdout"
        }
      ]
    },
    {
      "cell_type": "code",
      "metadata": {
        "id": "cEFAwxFgDXRM"
      },
      "source": [
        "a = a.reindex(np.random.permutation(a.index))\n",
        "b= b.reindex(np.random.permutation(b.index))\n",
        "def change(x):\n",
        "        if x=='High': return 1\n",
        "        if x=='Medium':   return 0.5\n",
        "        if x=='Low':   return 0\n",
        "a['Level'] = a['Level'].apply(change)\n",
        "a['Level'] = pd.to_numeric(a['Level'])\n",
        "def changes(x):\n",
        "        if x=='High': return 1\n",
        "        if x=='Medium':   return 0.5\n",
        "        if x=='Low':   return 0\n",
        "b['Level'] = b['Level'].apply(changes)\n",
        "b['Level'] = pd.to_numeric(b['Level'])"
      ],
      "execution_count": null,
      "outputs": []
    },
    {
      "cell_type": "code",
      "metadata": {
        "id": "osQ2afH2Y0DF"
      },
      "source": [
        "#a['Obesity'] = a['Obesity'].astype('float')\n",
        "#a['Coughing of Blood'] = a['Coughing of Blood'].astype('float')"
      ],
      "execution_count": null,
      "outputs": []
    },
    {
      "cell_type": "code",
      "metadata": {
        "colab": {
          "base_uri": "https://localhost:8080/"
        },
        "id": "Vudvz5NaktFO",
        "outputId": "43ebb13f-9911-49aa-cfac-73d939036e6b"
      },
      "source": [
        "a.dtypes"
      ],
      "execution_count": null,
      "outputs": [
        {
          "output_type": "execute_result",
          "data": {
            "text/plain": [
              "Patient Id                   object\n",
              "Age                           int64\n",
              "Gender                        int64\n",
              "Air Pollution                 int64\n",
              "Alcohol use                   int64\n",
              "Dust Allergy                  int64\n",
              "OccuPational Hazards          int64\n",
              "Genetic Risk                  int64\n",
              "chronic Lung Disease          int64\n",
              "Balanced Diet                 int64\n",
              "Obesity                       int64\n",
              "Smoking                       int64\n",
              "Passive Smoker                int64\n",
              "Chest Pain                    int64\n",
              "Coughing of Blood             int64\n",
              "Fatigue                       int64\n",
              "Weight Loss                   int64\n",
              "Shortness of Breath           int64\n",
              "Wheezing                      int64\n",
              "Swallowing Difficulty         int64\n",
              "Clubbing of Finger Nails      int64\n",
              "Frequent Cold                 int64\n",
              "Dry Cough                     int64\n",
              "Snoring                       int64\n",
              "Level                       float64\n",
              "dtype: object"
            ]
          },
          "metadata": {
            "tags": []
          },
          "execution_count": 3
        }
      ]
    },
    {
      "cell_type": "code",
      "metadata": {
        "id": "v4WZg_TE-JnB",
        "colab": {
          "base_uri": "https://localhost:8080/"
        },
        "outputId": "19018268-4c6d-450f-976e-bc1ed1836d0d"
      },
      "source": [
        "def build_model(my_learning_rate):\n",
        "   model = tf.keras.models.Sequential()\n",
        "   model.add(tf.keras.layers.Dense(units=1, input_shape=(1,)))\n",
        "   model.compile(optimizer=tf.keras.optimizers.RMSprop(lr=my_learning_rate),\n",
        "                loss=\"mean_squared_error\",\n",
        "                metrics=[tf.keras.metrics.RootMeanSquaredError()])\n",
        "   return model               \n",
        "\n",
        "\n",
        "def train_model(model, df, feature, label, my_epochs, \n",
        "                my_batch_size):\n",
        "    history = model.fit(x=df[feature],\n",
        "                      y=df[label],\n",
        "                      batch_size=my_batch_size,\n",
        "                      epochs=my_epochs)\n",
        "    trained_weight = model.get_weights()[0]\n",
        "    trained_bias = model.get_weights()[1]\n",
        "    epochs = history.epoch\n",
        "    hist = pd.DataFrame(history.history)\n",
        "    rmse = hist[\"root_mean_squared_error\"]\n",
        "    return trained_weight, trained_bias, epochs, rmse, hist  \n",
        "print(\"Defined the build_model and train_model functions.\")"
      ],
      "execution_count": null,
      "outputs": [
        {
          "output_type": "stream",
          "text": [
            "Defined the build_model and train_model functions.\n"
          ],
          "name": "stdout"
        }
      ]
    },
    {
      "cell_type": "code",
      "metadata": {
        "id": "hVl2WDS8cauE"
      },
      "source": [
        "from matplotlib import pyplot as plt\n",
        "def plot_the_model(trained_weight, trained_bias, feature, label):\n",
        "  plt.xlabel(feature)\n",
        "  plt.ylabel(label)\n",
        "  random_examples = a.sample(n=200)\n",
        "  plt.scatter(random_examples[feature], random_examples[label])\n",
        "  x0 = 0\n",
        "  y0 = trained_bias\n",
        "  x1 = 10000\n",
        "  y1 = trained_bias + (trained_weight * x1)\n",
        "  plt.plot([x0, x1], [y0, y1], c='r')\n",
        "  plt.show()\n",
        "def plot_the_loss_curve(epochs, rmse):\n",
        "  plt.figure()\n",
        "  plt.xlabel(\"Epoch\")\n",
        "  plt.ylabel(\"Root Mean Squared Error\")\n",
        "  plt.plot(epochs, rmse, label=\"Loss\")\n",
        "  plt.legend()\n",
        "  plt.ylim([rmse.min()*0.97, rmse.max()])\n",
        "  plt.show()  "
      ],
      "execution_count": null,
      "outputs": []
    },
    {
      "cell_type": "code",
      "metadata": {
        "colab": {
          "base_uri": "https://localhost:8080/",
          "height": 1000
        },
        "id": "OWP1CmK7dew7",
        "outputId": "de348ba8-4cdc-49a7-a178-0c3269313e5a"
      },
      "source": [
        "learning_rate = 0.005\n",
        "epochs = 100\n",
        "batch_size = 150\n",
        "my_feature= \"Obesity\"\n",
        "e = a.reindex(np.random.permutation(a.index))  \n",
        "my_label=\"Level\" \n",
        "my_model = None\n",
        "my_model = build_model(learning_rate)\n",
        "weight, bias, epochs, rmse, hist = train_model(my_model, e, \n",
        "                                         my_feature, my_label,\n",
        "                                         epochs, batch_size)\n",
        "print(\"\\nThe learned weight for your model is %.4f\" % weight)\n",
        "print(\"The learned bias for your model is %.4f\\n\" % bias )\n",
        "plot_the_model(weight, bias, my_feature, my_label)\n",
        "plot_the_loss_curve(epochs, rmse)\n",
        "\n",
        "print(\"Defined the plot_curve function.\")"
      ],
      "execution_count": null,
      "outputs": [
        {
          "output_type": "stream",
          "text": [
            "/usr/local/lib/python3.7/dist-packages/tensorflow/python/keras/optimizer_v2/optimizer_v2.py:375: UserWarning: The `lr` argument is deprecated, use `learning_rate` instead.\n",
            "  \"The `lr` argument is deprecated, use `learning_rate` instead.\")\n"
          ],
          "name": "stderr"
        },
        {
          "output_type": "stream",
          "text": [
            "Epoch 1/100\n",
            "6/6 [==============================] - 1s 3ms/step - loss: 11.2032 - root_mean_squared_error: 3.3471\n",
            "Epoch 2/100\n",
            "6/6 [==============================] - 0s 3ms/step - loss: 9.4513 - root_mean_squared_error: 3.0743\n",
            "Epoch 3/100\n",
            "6/6 [==============================] - 0s 4ms/step - loss: 8.2856 - root_mean_squared_error: 2.8785\n",
            "Epoch 4/100\n",
            "6/6 [==============================] - 0s 3ms/step - loss: 7.2903 - root_mean_squared_error: 2.7001\n",
            "Epoch 5/100\n",
            "6/6 [==============================] - 0s 3ms/step - loss: 6.4255 - root_mean_squared_error: 2.5349\n",
            "Epoch 6/100\n",
            "6/6 [==============================] - 0s 3ms/step - loss: 5.6373 - root_mean_squared_error: 2.3743\n",
            "Epoch 7/100\n",
            "6/6 [==============================] - 0s 3ms/step - loss: 4.9113 - root_mean_squared_error: 2.2162\n",
            "Epoch 8/100\n",
            "6/6 [==============================] - 0s 3ms/step - loss: 4.2633 - root_mean_squared_error: 2.0648\n",
            "Epoch 9/100\n",
            "6/6 [==============================] - 0s 3ms/step - loss: 3.6465 - root_mean_squared_error: 1.9096\n",
            "Epoch 10/100\n",
            "6/6 [==============================] - 0s 3ms/step - loss: 3.0997 - root_mean_squared_error: 1.7606\n",
            "Epoch 11/100\n",
            "6/6 [==============================] - 0s 3ms/step - loss: 2.6031 - root_mean_squared_error: 1.6134\n",
            "Epoch 12/100\n",
            "6/6 [==============================] - 0s 3ms/step - loss: 2.1569 - root_mean_squared_error: 1.4686\n",
            "Epoch 13/100\n",
            "6/6 [==============================] - 0s 3ms/step - loss: 1.7578 - root_mean_squared_error: 1.3258\n",
            "Epoch 14/100\n",
            "6/6 [==============================] - 0s 3ms/step - loss: 1.4074 - root_mean_squared_error: 1.1863\n",
            "Epoch 15/100\n",
            "6/6 [==============================] - 0s 4ms/step - loss: 1.1103 - root_mean_squared_error: 1.0537\n",
            "Epoch 16/100\n",
            "6/6 [==============================] - 0s 4ms/step - loss: 0.8620 - root_mean_squared_error: 0.9284\n",
            "Epoch 17/100\n",
            "6/6 [==============================] - 0s 3ms/step - loss: 0.6571 - root_mean_squared_error: 0.8106\n",
            "Epoch 18/100\n",
            "6/6 [==============================] - 0s 3ms/step - loss: 0.4954 - root_mean_squared_error: 0.7039\n",
            "Epoch 19/100\n",
            "6/6 [==============================] - 0s 3ms/step - loss: 0.3711 - root_mean_squared_error: 0.6092\n",
            "Epoch 20/100\n",
            "6/6 [==============================] - 0s 3ms/step - loss: 0.2796 - root_mean_squared_error: 0.5288\n",
            "Epoch 21/100\n",
            "6/6 [==============================] - 0s 3ms/step - loss: 0.2182 - root_mean_squared_error: 0.4671\n",
            "Epoch 22/100\n",
            "6/6 [==============================] - 0s 4ms/step - loss: 0.1820 - root_mean_squared_error: 0.4266\n",
            "Epoch 23/100\n",
            "6/6 [==============================] - 0s 4ms/step - loss: 0.1629 - root_mean_squared_error: 0.4036\n",
            "Epoch 24/100\n",
            "6/6 [==============================] - 0s 3ms/step - loss: 0.1518 - root_mean_squared_error: 0.3896\n",
            "Epoch 25/100\n",
            "6/6 [==============================] - 0s 3ms/step - loss: 0.1440 - root_mean_squared_error: 0.3795\n",
            "Epoch 26/100\n",
            "6/6 [==============================] - 0s 3ms/step - loss: 0.1365 - root_mean_squared_error: 0.3695\n",
            "Epoch 27/100\n",
            "6/6 [==============================] - 0s 3ms/step - loss: 0.1294 - root_mean_squared_error: 0.3598\n",
            "Epoch 28/100\n",
            "6/6 [==============================] - 0s 3ms/step - loss: 0.1230 - root_mean_squared_error: 0.3507\n",
            "Epoch 29/100\n",
            "6/6 [==============================] - 0s 3ms/step - loss: 0.1168 - root_mean_squared_error: 0.3417\n",
            "Epoch 30/100\n",
            "6/6 [==============================] - 0s 2ms/step - loss: 0.1110 - root_mean_squared_error: 0.3332\n",
            "Epoch 31/100\n",
            "6/6 [==============================] - 0s 3ms/step - loss: 0.1057 - root_mean_squared_error: 0.3252\n",
            "Epoch 32/100\n",
            "6/6 [==============================] - 0s 2ms/step - loss: 0.1010 - root_mean_squared_error: 0.3178\n",
            "Epoch 33/100\n",
            "6/6 [==============================] - 0s 4ms/step - loss: 0.0960 - root_mean_squared_error: 0.3099\n",
            "Epoch 34/100\n",
            "6/6 [==============================] - 0s 3ms/step - loss: 0.0923 - root_mean_squared_error: 0.3038\n",
            "Epoch 35/100\n",
            "6/6 [==============================] - 0s 3ms/step - loss: 0.0875 - root_mean_squared_error: 0.2957\n",
            "Epoch 36/100\n",
            "6/6 [==============================] - 0s 4ms/step - loss: 0.0844 - root_mean_squared_error: 0.2905\n",
            "Epoch 37/100\n",
            "6/6 [==============================] - 0s 4ms/step - loss: 0.0805 - root_mean_squared_error: 0.2837\n",
            "Epoch 38/100\n",
            "6/6 [==============================] - 0s 3ms/step - loss: 0.0773 - root_mean_squared_error: 0.2780\n",
            "Epoch 39/100\n",
            "6/6 [==============================] - 0s 4ms/step - loss: 0.0738 - root_mean_squared_error: 0.2717\n",
            "Epoch 40/100\n",
            "6/6 [==============================] - 0s 3ms/step - loss: 0.0716 - root_mean_squared_error: 0.2676\n",
            "Epoch 41/100\n",
            "6/6 [==============================] - 0s 3ms/step - loss: 0.0687 - root_mean_squared_error: 0.2621\n",
            "Epoch 42/100\n",
            "6/6 [==============================] - 0s 3ms/step - loss: 0.0662 - root_mean_squared_error: 0.2574\n",
            "Epoch 43/100\n",
            "6/6 [==============================] - 0s 4ms/step - loss: 0.0648 - root_mean_squared_error: 0.2546\n",
            "Epoch 44/100\n",
            "6/6 [==============================] - 0s 3ms/step - loss: 0.0623 - root_mean_squared_error: 0.2497\n",
            "Epoch 45/100\n",
            "6/6 [==============================] - 0s 3ms/step - loss: 0.0611 - root_mean_squared_error: 0.2471\n",
            "Epoch 46/100\n",
            "6/6 [==============================] - 0s 3ms/step - loss: 0.0597 - root_mean_squared_error: 0.2443\n",
            "Epoch 47/100\n",
            "6/6 [==============================] - 0s 3ms/step - loss: 0.0583 - root_mean_squared_error: 0.2415\n",
            "Epoch 48/100\n",
            "6/6 [==============================] - 0s 4ms/step - loss: 0.0577 - root_mean_squared_error: 0.2402\n",
            "Epoch 49/100\n",
            "6/6 [==============================] - 0s 3ms/step - loss: 0.0581 - root_mean_squared_error: 0.2411\n",
            "Epoch 50/100\n",
            "6/6 [==============================] - 0s 4ms/step - loss: 0.0561 - root_mean_squared_error: 0.2369\n",
            "Epoch 51/100\n",
            "6/6 [==============================] - 0s 3ms/step - loss: 0.0558 - root_mean_squared_error: 0.2363\n",
            "Epoch 52/100\n",
            "6/6 [==============================] - 0s 3ms/step - loss: 0.0550 - root_mean_squared_error: 0.2345\n",
            "Epoch 53/100\n",
            "6/6 [==============================] - 0s 3ms/step - loss: 0.0548 - root_mean_squared_error: 0.2341\n",
            "Epoch 54/100\n",
            "6/6 [==============================] - 0s 3ms/step - loss: 0.0545 - root_mean_squared_error: 0.2334\n",
            "Epoch 55/100\n",
            "6/6 [==============================] - 0s 2ms/step - loss: 0.0551 - root_mean_squared_error: 0.2348\n",
            "Epoch 56/100\n",
            "6/6 [==============================] - 0s 3ms/step - loss: 0.0542 - root_mean_squared_error: 0.2328\n",
            "Epoch 57/100\n",
            "6/6 [==============================] - 0s 4ms/step - loss: 0.0542 - root_mean_squared_error: 0.2328\n",
            "Epoch 58/100\n",
            "6/6 [==============================] - 0s 4ms/step - loss: 0.0543 - root_mean_squared_error: 0.2330\n",
            "Epoch 59/100\n",
            "6/6 [==============================] - 0s 4ms/step - loss: 0.0549 - root_mean_squared_error: 0.2343\n",
            "Epoch 60/100\n",
            "6/6 [==============================] - 0s 3ms/step - loss: 0.0544 - root_mean_squared_error: 0.2332\n",
            "Epoch 61/100\n",
            "6/6 [==============================] - 0s 4ms/step - loss: 0.0543 - root_mean_squared_error: 0.2329\n",
            "Epoch 62/100\n",
            "6/6 [==============================] - 0s 3ms/step - loss: 0.0542 - root_mean_squared_error: 0.2329\n",
            "Epoch 63/100\n",
            "6/6 [==============================] - 0s 3ms/step - loss: 0.0546 - root_mean_squared_error: 0.2337\n",
            "Epoch 64/100\n",
            "6/6 [==============================] - 0s 3ms/step - loss: 0.0544 - root_mean_squared_error: 0.2332\n",
            "Epoch 65/100\n",
            "6/6 [==============================] - 0s 3ms/step - loss: 0.0547 - root_mean_squared_error: 0.2338\n",
            "Epoch 66/100\n",
            "6/6 [==============================] - 0s 2ms/step - loss: 0.0544 - root_mean_squared_error: 0.2332\n",
            "Epoch 67/100\n",
            "6/6 [==============================] - 0s 2ms/step - loss: 0.0544 - root_mean_squared_error: 0.2333\n",
            "Epoch 68/100\n",
            "6/6 [==============================] - 0s 4ms/step - loss: 0.0544 - root_mean_squared_error: 0.2332\n",
            "Epoch 69/100\n",
            "6/6 [==============================] - 0s 3ms/step - loss: 0.0543 - root_mean_squared_error: 0.2329\n",
            "Epoch 70/100\n",
            "6/6 [==============================] - 0s 3ms/step - loss: 0.0541 - root_mean_squared_error: 0.2325\n",
            "Epoch 71/100\n",
            "6/6 [==============================] - 0s 3ms/step - loss: 0.0547 - root_mean_squared_error: 0.2338\n",
            "Epoch 72/100\n",
            "6/6 [==============================] - 0s 2ms/step - loss: 0.0542 - root_mean_squared_error: 0.2327\n",
            "Epoch 73/100\n",
            "6/6 [==============================] - 0s 3ms/step - loss: 0.0541 - root_mean_squared_error: 0.2325\n",
            "Epoch 74/100\n",
            "6/6 [==============================] - 0s 3ms/step - loss: 0.0551 - root_mean_squared_error: 0.2348\n",
            "Epoch 75/100\n",
            "6/6 [==============================] - 0s 3ms/step - loss: 0.0541 - root_mean_squared_error: 0.2325\n",
            "Epoch 76/100\n",
            "6/6 [==============================] - 0s 3ms/step - loss: 0.0548 - root_mean_squared_error: 0.2341\n",
            "Epoch 77/100\n",
            "6/6 [==============================] - 0s 3ms/step - loss: 0.0542 - root_mean_squared_error: 0.2327\n",
            "Epoch 78/100\n",
            "6/6 [==============================] - 0s 3ms/step - loss: 0.0541 - root_mean_squared_error: 0.2326\n",
            "Epoch 79/100\n",
            "6/6 [==============================] - 0s 3ms/step - loss: 0.0542 - root_mean_squared_error: 0.2328\n",
            "Epoch 80/100\n",
            "6/6 [==============================] - 0s 3ms/step - loss: 0.0547 - root_mean_squared_error: 0.2339\n",
            "Epoch 81/100\n",
            "6/6 [==============================] - 0s 3ms/step - loss: 0.0552 - root_mean_squared_error: 0.2350\n",
            "Epoch 82/100\n",
            "6/6 [==============================] - 0s 4ms/step - loss: 0.0540 - root_mean_squared_error: 0.2324\n",
            "Epoch 83/100\n",
            "6/6 [==============================] - 0s 4ms/step - loss: 0.0543 - root_mean_squared_error: 0.2330\n",
            "Epoch 84/100\n",
            "6/6 [==============================] - 0s 4ms/step - loss: 0.0540 - root_mean_squared_error: 0.2325\n",
            "Epoch 85/100\n",
            "6/6 [==============================] - 0s 3ms/step - loss: 0.0543 - root_mean_squared_error: 0.2329\n",
            "Epoch 86/100\n",
            "6/6 [==============================] - 0s 3ms/step - loss: 0.0542 - root_mean_squared_error: 0.2328\n",
            "Epoch 87/100\n",
            "6/6 [==============================] - 0s 4ms/step - loss: 0.0542 - root_mean_squared_error: 0.2328\n",
            "Epoch 88/100\n",
            "6/6 [==============================] - 0s 3ms/step - loss: 0.0544 - root_mean_squared_error: 0.2333\n",
            "Epoch 89/100\n",
            "6/6 [==============================] - 0s 4ms/step - loss: 0.0541 - root_mean_squared_error: 0.2325\n",
            "Epoch 90/100\n",
            "6/6 [==============================] - 0s 3ms/step - loss: 0.0542 - root_mean_squared_error: 0.2329\n",
            "Epoch 91/100\n",
            "6/6 [==============================] - 0s 4ms/step - loss: 0.0544 - root_mean_squared_error: 0.2332\n",
            "Epoch 92/100\n",
            "6/6 [==============================] - 0s 3ms/step - loss: 0.0546 - root_mean_squared_error: 0.2337\n",
            "Epoch 93/100\n",
            "6/6 [==============================] - 0s 3ms/step - loss: 0.0542 - root_mean_squared_error: 0.2327\n",
            "Epoch 94/100\n",
            "6/6 [==============================] - 0s 3ms/step - loss: 0.0540 - root_mean_squared_error: 0.2324\n",
            "Epoch 95/100\n",
            "6/6 [==============================] - 0s 4ms/step - loss: 0.0543 - root_mean_squared_error: 0.2330\n",
            "Epoch 96/100\n",
            "6/6 [==============================] - 0s 3ms/step - loss: 0.0545 - root_mean_squared_error: 0.2334\n",
            "Epoch 97/100\n",
            "6/6 [==============================] - 0s 2ms/step - loss: 0.0548 - root_mean_squared_error: 0.2341\n",
            "Epoch 98/100\n",
            "6/6 [==============================] - 0s 3ms/step - loss: 0.0540 - root_mean_squared_error: 0.2324\n",
            "Epoch 99/100\n",
            "6/6 [==============================] - 0s 3ms/step - loss: 0.0550 - root_mean_squared_error: 0.2345\n",
            "Epoch 100/100\n",
            "6/6 [==============================] - 0s 3ms/step - loss: 0.0542 - root_mean_squared_error: 0.2329\n",
            "\n",
            "The learned weight for your model is 0.1578\n",
            "The learned bias for your model is -0.1744\n",
            "\n"
          ],
          "name": "stdout"
        },
        {
          "output_type": "stream",
          "text": [
            "/usr/local/lib/python3.7/dist-packages/numpy/core/_asarray.py:136: VisibleDeprecationWarning: Creating an ndarray from ragged nested sequences (which is a list-or-tuple of lists-or-tuples-or ndarrays with different lengths or shapes) is deprecated. If you meant to do this, you must specify 'dtype=object' when creating the ndarray\n",
            "  return array(a, dtype, copy=False, order=order, subok=True)\n"
          ],
          "name": "stderr"
        },
        {
          "output_type": "display_data",
          "data": {
            "image/png": "[encoded data removed]",
            "text/plain": [
              "<Figure size 432x288 with 1 Axes>"
            ]
          },
          "metadata": {
            "tags": [],
            "needs_background": "light"
          }
        },
        {
          "output_type": "display_data",
          "data": {
            "image/png": "[encoded data removed]",
            "text/plain": [
              "<Figure size 432x288 with 1 Axes>"
            ]
          },
          "metadata": {
            "tags": [],
            "needs_background": "light"
          }
        },
        {
          "output_type": "stream",
          "text": [
            "Defined the plot_curve function.\n"
          ],
          "name": "stdout"
        }
      ]
    },
    {
      "cell_type": "code",
      "metadata": {
        "id": "N0Ck6gSui24H"
      },
      "source": [
        "def predict(n, feature, label):\n",
        "  batch = b[feature][0:0 +n]\n",
        "  predicted_values = my_model.predict_on_batch(x=batch)\n",
        "  print(\"Patient Id     Level\")\n",
        "  print(\"--------------------------------------\")\n",
        "  for i in range(n):\n",
        "    if(predicted_values[i][0]>=0 and predicted_values[i][0]<=0.3):\n",
        "      print (b.at[i,\"Patient Id\"], \"           \",\"Low\" )  \n",
        "    if(predicted_values[i][0]>=0.4 and predicted_values[i][0]<=0.6):\n",
        "      print (b.at[i,\"Patient Id\"], \"           \",\"Medium\" )  \n",
        "    if(predicted_values[i][0]>=0.7 and predicted_values[i][0]<=1):\n",
        "      print (b.at[i,\"Patient Id\"], \"           \",\"High\" )  "
      ],
      "execution_count": null,
      "outputs": []
    },
    {
      "cell_type": "code",
      "metadata": {
        "colab": {
          "base_uri": "https://localhost:8080/"
        },
        "id": "KJIWJ3T3UbL1",
        "outputId": "6eafbb79-ffcf-4a56-bd16-73c0da9d1532"
      },
      "source": [
        "predict(201, my_feature, my_label)"
      ],
      "execution_count": null,
      "outputs": [
        {
          "output_type": "stream",
          "text": [
            "Patient Id     Level\n",
            "--------------------------------------\n",
            "P82             Low\n",
            "P820             Low\n",
            "P821             Medium\n",
            "P822             High\n",
            "P823             High\n",
            "P824             Low\n",
            "P825             Medium\n",
            "P826             High\n",
            "P827             Low\n",
            "P828             Low\n",
            "P829             Medium\n",
            "P83             Medium\n",
            "P830             Medium\n",
            "P831             Low\n",
            "P832             High\n",
            "P833             High\n",
            "P834             Low\n",
            "P835             High\n",
            "P836             Medium\n",
            "P837             Low\n",
            "P839             Low\n",
            "P84             Medium\n",
            "P840             Low\n",
            "P841             High\n",
            "P842             High\n",
            "P843             Low\n",
            "P844             High\n",
            "P845             Low\n",
            "P846             Low\n",
            "P847             High\n",
            "P848             High\n",
            "P849             High\n",
            "P85             Low\n",
            "P850             High\n",
            "P851             High\n",
            "P852             High\n",
            "P853             Low\n",
            "P854             Medium\n",
            "P855             Low\n",
            "P856             High\n",
            "P857             Low\n",
            "P858             Low\n",
            "P859             High\n",
            "P86             Low\n",
            "P860             Medium\n",
            "P861             High\n",
            "P862             High\n",
            "P863             High\n",
            "P864             High\n",
            "P865             High\n",
            "P866             Medium\n",
            "P867             High\n",
            "P868             Low\n",
            "P869             Low\n",
            "P87             Low\n",
            "P870             Medium\n",
            "P871             Low\n",
            "P872             Low\n",
            "P873             High\n",
            "P874             Low\n",
            "P875             Low\n",
            "P876             Medium\n",
            "P877             High\n",
            "P879             Medium\n",
            "P880             High\n",
            "P881             Low\n",
            "P883             High\n",
            "P884             High\n",
            "P885             Low\n",
            "P886             High\n",
            "P887             Low\n",
            "P888             High\n",
            "P889             High\n",
            "P89             Medium\n",
            "P890             Medium\n",
            "P891             Medium\n",
            "P893             Low\n",
            "P894             Medium\n",
            "P895             High\n",
            "P896             Medium\n",
            "P897             Low\n",
            "P899             Medium\n",
            "P90             High\n",
            "P900             Medium\n",
            "P901             Medium\n",
            "P902             Low\n",
            "P904             High\n",
            "P905             Low\n",
            "P906             Medium\n",
            "P907             Low\n",
            "P908             High\n",
            "P909             Low\n",
            "P91             Low\n",
            "P910             High\n",
            "P911             Medium\n",
            "P912             High\n",
            "P914             Low\n",
            "P915             High\n",
            "P916             Low\n",
            "P917             Medium\n",
            "P918             High\n",
            "P919             Low\n",
            "P92             Low\n",
            "P920             High\n",
            "P922             Low\n",
            "P923             High\n",
            "P924             Medium\n",
            "P925             High\n",
            "P926             Low\n",
            "P927             High\n",
            "P928             Low\n",
            "P929             Low\n",
            "P930             High\n",
            "P931             Medium\n",
            "P932             Low\n",
            "P933             Medium\n",
            "P935             High\n",
            "P936             Low\n",
            "P937             High\n",
            "P938             High\n",
            "P939             High\n",
            "P94             Medium\n",
            "P940             High\n",
            "P941             High\n",
            "P942             Low\n",
            "P943             High\n",
            "P944             Low\n",
            "P945             High\n",
            "P946             Low\n",
            "P947             High\n",
            "P948             Medium\n",
            "P95             High\n",
            "P950             High\n",
            "P951             High\n",
            "P952             High\n",
            "P953             Medium\n",
            "P954             High\n",
            "P955             High\n",
            "P956             Low\n",
            "P957             High\n",
            "P958             High\n",
            "P959             High\n",
            "P96             High\n",
            "P960             High\n",
            "P961             High\n",
            "P962             High\n",
            "P963             Medium\n",
            "P964             Medium\n",
            "P965             Low\n",
            "P966             High\n",
            "P967             High\n",
            "P968             Low\n",
            "P969             Low\n",
            "P97             Medium\n",
            "P970             High\n",
            "P971             Medium\n",
            "P972             High\n",
            "P973             High\n",
            "P974             Medium\n",
            "P975             Low\n",
            "P976             High\n",
            "P977             Medium\n",
            "P978             Low\n",
            "P979             Low\n",
            "P98             High\n",
            "P980             High\n",
            "P981             Low\n",
            "P982             Medium\n",
            "P983             High\n",
            "P984             High\n",
            "P985             High\n",
            "P986             High\n",
            "P987             Low\n",
            "P989             Low\n",
            "P99             High\n",
            "P990             Low\n",
            "P991             Low\n",
            "P992             Low\n",
            "P993             Low\n",
            "P994             High\n",
            "P995             Medium\n",
            "P997             Low\n",
            "P998             High\n",
            "P999             High\n"
          ],
          "name": "stdout"
        }
      ]
    },
    {
      "cell_type": "code",
      "metadata": {
        "colab": {
          "base_uri": "https://localhost:8080/"
        },
        "id": "PSJgvAi8d1AC",
        "outputId": "50b90733-ae20-4218-84fc-408bf1d38637"
      },
      "source": [
        "pip install Flask"
      ],
      "execution_count": null,
      "outputs": [
        {
          "output_type": "stream",
          "name": "stdout",
          "text": [
            "Requirement already satisfied: Flask in /usr/local/lib/python3.7/dist-packages (1.1.4)\n",
            "Requirement already satisfied: Jinja2<3.0,>=2.10.1 in /usr/local/lib/python3.7/dist-packages (from Flask) (2.11.3)\n",
            "Requirement already satisfied: Werkzeug<2.0,>=0.15 in /usr/local/lib/python3.7/dist-packages (from Flask) (1.0.1)\n",
            "Requirement already satisfied: itsdangerous<2.0,>=0.24 in /usr/local/lib/python3.7/dist-packages (from Flask) (1.1.0)\n",
            "Requirement already satisfied: click<8.0,>=5.1 in /usr/local/lib/python3.7/dist-packages (from Flask) (7.1.2)\n",
            "Requirement already satisfied: MarkupSafe>=0.23 in /usr/local/lib/python3.7/dist-packages (from Jinja2<3.0,>=2.10.1->Flask) (2.0.1)\n"
          ]
        }
      ]
    }
  ]
}